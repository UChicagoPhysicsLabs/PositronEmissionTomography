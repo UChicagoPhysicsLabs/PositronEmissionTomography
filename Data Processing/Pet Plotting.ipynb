{
 "cells": [
  {
   "cell_type": "markdown",
   "metadata": {},
   "source": [
    "# Plotting Your Data\n",
    "----\n",
    "To start out, you'll want to load your data from a file using numpy, and then put it into a dataframe using Pandas.  This makes the data much easier to work with as we'll need to select sub-sets of it frequently."
   ]
  },
  {
   "cell_type": "code",
   "execution_count": null,
   "metadata": {},
   "outputs": [],
   "source": [
    "import numpy as np\n",
    "import pandas as pd\n",
    "from matplotlib import pyplot as plt\n",
    "%matplotlib notebook\n",
    "data_filename = \"PetScan_Sep14_Time_19_17_12.csv\""
   ]
  },
  {
   "cell_type": "code",
   "execution_count": null,
   "metadata": {},
   "outputs": [],
   "source": [
    "d = np.loadtxt(data_filename, delimiter=',',dtype = np.int32)\n",
    "data = pd.DataFrame(d, columns = ['x','theta','t','ch1','ch2','counts'])\n",
    "data['rate'] = data['counts']/data['t']\n",
    "display(data)\n",
    "angles = data['theta'].unique()\n",
    "print(angles)"
   ]
  },
  {
   "cell_type": "markdown",
   "metadata": {},
   "source": [
    "This should show several rows of a table, and the ``unique()`` function will select out the values of the individual angles that are in the dataset.\n",
    "\n",
    "We'll use this to make a set of plots for each angle.  It'll be messy at first, but it gives a brief bit of insight into what you've got."
   ]
  },
  {
   "cell_type": "code",
   "execution_count": null,
   "metadata": {},
   "outputs": [],
   "source": [
    "fig,ax = plt.subplots()\n",
    "for a in angles:\n",
    "    x_val = data[data['theta']==a]['x']\n",
    "    rate_val = data[data['theta']==a]['rate']\n",
    "    ax.plot(x_val,rate_val,label=a,marker='.')\n",
    "ax.legend()"
   ]
  },
  {
   "cell_type": "markdown",
   "metadata": {},
   "source": [
    "Now, there's the obvious problem that we want ultimately want to work with spatial variables, not arbitrary position values.  To this end, you'll need to identify what value corresponds to the platform being centered between the detectors and change the ``center`` variable to reflect that.\n",
    "You'll also want to convert your distances to units of length at some point, and your angles to units of degrees.  Set the ``length_conversion`` and ``angle_conversion`` values appropriately."
   ]
  },
  {
   "cell_type": "code",
   "execution_count": null,
   "metadata": {},
   "outputs": [],
   "source": [
    "center = 48000\n",
    "length_conversion = 5000 # converts to cm\n",
    "angle_conversion = 25600/360 #25600 motor pulses complete one full rotation\n",
    "data['xcenter'] = (data['x'] - center)\n",
    "data['xconverted'] = data['xcenter']/length_conversion\n",
    "data['thetaconverted'] = data['theta']/angle_conversion\n",
    "display(data)"
   ]
  },
  {
   "cell_type": "code",
   "execution_count": null,
   "metadata": {},
   "outputs": [],
   "source": [
    "data_by_angle = []\n",
    "fig,ax = plt.subplots()\n",
    "for a in angles:\n",
    "    x_val = data[data['theta']==a]['xconverted'] \n",
    "    rate_val = data[data['theta']==a]['rate']\n",
    "    ax.plot(x_val,rate_val,label=a,marker='.')\n",
    "ax.set_xlabel(\"Displacement(cm)\")\n",
    "ax.legend()"
   ]
  },
  {
   "cell_type": "markdown",
   "metadata": {},
   "source": [
    "Well, now that we have the dimensions figured out, let's convert this series of 1d plots into a 2d plot of position versus angle.\n",
    "\n",
    "To do this, we'll use the ``pivot_table`` function to select out the coincidence counts in terms of the converted $\\theta$ and $x$ variables.  \n",
    "\n",
    "If you want a bit of an explanation of what this does, see the [pivot table wikipedia page](https://en.wikipedia.org/wiki/Pivot_table#Mechanics)."
   ]
  },
  {
   "cell_type": "code",
   "execution_count": null,
   "metadata": {
    "scrolled": false
   },
   "outputs": [],
   "source": [
    "fig,ax = plt.subplots()\n",
    "sinogram = data.pivot_table('rate', 'thetaconverted', 'xconverted', fill_value=0).values\n",
    "ax.imshow(sinogram,aspect=\"auto\")\n",
    "# The rest of this gets a list of the angles & positions we're using so that we can scale the plot appropriately.\n",
    "positions = data.pivot_table('rate', 'thetaconverted', 'xconverted', fill_value=0).keys() \n",
    "angle_labels =  data.pivot_table('rate', 'xconverted','thetaconverted', fill_value=0).keys()\n",
    "ax.set_xticks(np.arange(0,len(sinogram[0]))[::2],positions[::2])\n",
    "ax.set_yticks(np.arange(0,len(sinogram[:,0]))[::2],angle_labels[::2]);"
   ]
  },
  {
   "cell_type": "markdown",
   "metadata": {},
   "source": [
    "Now, let's look how this plot corresponds to our previous ones.  After shamelessly stealing from one of the [Matplotlib Tutorials](https://matplotlib.org/stable/tutorials/intermediate/arranging_axes.html), we can set up our sinogram plot side-by-side with some of the individual scans.  If how the two correlate isn't clear, talk with your TA or the lab staff to make sure you understand what's going on."
   ]
  },
  {
   "cell_type": "code",
   "execution_count": null,
   "metadata": {},
   "outputs": [],
   "source": [
    "fig = plt.figure(figsize = (9,6) ,constrained_layout=True)\n",
    "spec = fig.add_gridspec(3, 3)\n",
    "\n",
    "ax = fig.add_subplot(spec[:,:2])\n",
    "sinogram = data.pivot_table('rate', 'thetaconverted', 'xconverted', fill_value=0).values\n",
    "ax.set_title(\"Sinogram\")\n",
    "ax.imshow(sinogram,aspect=\"auto\")\n",
    "positions = data.pivot_table('rate', 'thetaconverted', 'xconverted', fill_value=0).keys() \n",
    "angles =  data.pivot_table('rate', 'xconverted','thetaconverted', fill_value=0).keys()\n",
    "ax.set_xticks(np.arange(0,len(sinogram[0]))[::2],positions[::2])\n",
    "ax.set_yticks(np.arange(0,len(sinogram[:,0]))[::2],angles[::2]);\n",
    "\n",
    "ax0 = fig.add_subplot(spec[0, 2])\n",
    "ax0.plot(data[data['thetaconverted']==angles[0]]['xconverted'], sinogram[0])\n",
    "ax0.set_title(\"0 degree scan\")\n",
    "ax.axhline(0)\n",
    "axm = fig.add_subplot(spec[1, 2])\n",
    "axm.plot(data[data['thetaconverted']==angles[len(angles)//2]]['xconverted'], sinogram[len(angles)//2])\n",
    "axm.set_title(\"{} degree scan\".format(angles[len(angles)//2]))\n",
    "ax.axhline(len(angles)//2,color='purple')\n",
    "axf = fig.add_subplot(spec[2, 2])\n",
    "axf.plot(data[data['thetaconverted']==angles[-1]]['xconverted'], sinogram[-1])\n",
    "axf.set_title(\"{} degree scan\".format(angles[-1]))\n",
    "ax.axhline(len(angles)-1,color='red');"
   ]
  },
  {
   "cell_type": "markdown",
   "metadata": {},
   "source": [
    "Now we have an inverse problem:  We know what the intensity of our source looks like as a function of distance and angle, but we want to know it in terms of x and y position in platform coordinates.\n",
    "\n",
    "There are a number of ways we can go about doing this, but we'll start with the simplest first: projecting out our slices along the line of response for the detectors, rotating these projections by their associated angles, and then combining all these together to get a composite plot.\n",
    "\n",
    "To project out out slices, we'll use `np.outer` to do an outer product; this turns our 1d slices into 2d matricies.\n",
    "\n",
    "The code below does this for each slice in our data, and plots the results for the first and second slices."
   ]
  },
  {
   "cell_type": "code",
   "execution_count": null,
   "metadata": {
    "scrolled": false
   },
   "outputs": [],
   "source": [
    "from scipy import ndimage\n",
    "expanded_data = []\n",
    "for item in sinogram:\n",
    "    expand_vec = np.ones(item.size)  # this is used to get us a square matrix\n",
    "    expanded_data.append(np.outer(expand_vec,item))\n",
    "    \n",
    "fig, (ax,ay) = plt.subplots(1,2,figsize= (8,4))\n",
    "ax.imshow(expanded_data[0])\n",
    "ax.set_xticks(np.arange(0,len(sinogram[0]))[::2],positions[::2])\n",
    "ax.set_yticks(np.arange(0,len(sinogram[0]))[::2],positions[::2])\n",
    "ay.imshow(expanded_data[-1])\n",
    "ay.set_xticks(np.arange(0,len(sinogram[0]))[::2],positions[::2])\n",
    "ay.set_yticks(np.arange(0,len(sinogram[0]))[::2],positions[::2]);"
   ]
  },
  {
   "cell_type": "markdown",
   "metadata": {},
   "source": [
    "One more issue we get into here: we'll want to rotate our data to overlay the scans, but first we need to be sure that we're rotating around the platform's axis (i.e. $x = 0$).  If we don't do this, then our reconstruction will smear everything out more and more the further off-axis we are.\n",
    "\n",
    "To do this, we find the smallest positive `x` value in each slice and subtract it off of all the position values."
   ]
  },
  {
   "cell_type": "code",
   "execution_count": null,
   "metadata": {},
   "outputs": [],
   "source": [
    "fig,ax = plt.subplots()\n",
    "\n",
    "a=0\n",
    "dshift = data.query('theta == {}'.format(a))['xconverted']\n",
    "shift_value = dshift[len(dshift)//2]\n",
    "\n",
    "ax.imshow(expanded_data[0])\n",
    "ax.set_xticks(np.arange(0,len(sinogram[0]))[::2],positions[::2])\n",
    "ax.set_yticks(np.arange(0,len(sinogram[0]))[::2],positions[::2]);\n",
    "ax.set_title(\"Original\")\n",
    "\n",
    "fig, ax = plt.subplots()\n",
    "ax.imshow(ndimage.shift(expanded_data[0],(0,shift_value)))\n",
    "ax.set_xticks(np.arange(0,len(sinogram[0]))[::2],positions[::2])\n",
    "ax.set_yticks(np.arange(0,len(sinogram[0]))[::2],positions[::2]);\n",
    "ax.set_title(\"Shifted\")\n",
    "\n",
    "shifted_data = np.empty_like(expanded_data)\n",
    "for index,item in enumerate(expanded_data):\n",
    "    shifted_data[index] = ndimage.shift(item,(0,shift_value))\n"
   ]
  },
  {
   "cell_type": "markdown",
   "metadata": {},
   "source": [
    "Okay, we've made 2d representations of each slice, and we've figured out how to properly add an offset to the axes.  Now how do we rotate them?  Instead of writing code to do matrix rotation ourselves, we'll use scipy's `ndimage` library.  Unless you manually want to write a matrix rotation algorithm.  I'm not your boss, knock yourself out."
   ]
  },
  {
   "cell_type": "code",
   "execution_count": null,
   "metadata": {},
   "outputs": [],
   "source": [
    "rotated_data = []\n",
    "for index, item in enumerate(shifted_data):\n",
    "    rotated_data.append(ndimage.rotate(item,angles[index],reshape=False)) # we want Numpy to keep our square, 2d matricies.\n",
    "    \n",
    "fig, (ax,ay) = plt.subplots(2)\n",
    "fig.tight_layout()\n",
    "ax.imshow(rotated_data[0])\n",
    "ax.set_title(\"First slice\")\n",
    "ay.imshow(rotated_data[1]) \n",
    "ay.set_title(\"Second slice\")\n",
    "ax.set_xticks(np.arange(0,len(sinogram[0]))[::2],positions[::2])\n",
    "ax.set_yticks(np.arange(0,len(sinogram[0]))[::2],positions[::2]);\n",
    "ay.set_xticks(np.arange(0,len(sinogram[0]))[::2],positions[::2])\n",
    "ay.set_yticks(np.arange(0,len(sinogram[0]))[::2],positions[::2]);"
   ]
  },
  {
   "cell_type": "markdown",
   "metadata": {},
   "source": [
    "The rotated part has some bad aliasing going on, but it more-or-less captures the results of our second scan.  We'll show how to reduce that a bit later, but for now let's start recombining data!\n",
    "\n",
    "To do this, we'll make a composite image by adding together the coincidence counts for each of these expanded & rotated slices.  Locations where we don't see many coincidences at any angle will end up with low counts, and locations with lots of coincidences at similar angles will end up with high counts.  It may be easier to see what this looks like, so let's start by recombining just the first and third slices.\n",
    "\n",
    "We'll also normalize the data by dividing by `n`, where `n` is the number of slices we're using.\n",
    "\n",
    "----\n",
    "For starters, let's add the first and last rotations together"
   ]
  },
  {
   "cell_type": "code",
   "execution_count": null,
   "metadata": {},
   "outputs": [],
   "source": [
    "composite = rotated_data[0] + rotated_data[-1]\n",
    "normalized = composite/2\n",
    "\n",
    "fig, ax = plt.subplots()\n",
    "ax.imshow(normalized)"
   ]
  },
  {
   "cell_type": "markdown",
   "metadata": {},
   "source": [
    "If you have more than one source, you might notice that there are multiple areas corresponding to high intensities here.  That's because there are cross-terms where one source's maximum lines up with a different source.  Thankfully, this effect can be mitigated by adding in more rotations, which will supress the 'ghost' peaks. Let's do that now."
   ]
  },
  {
   "cell_type": "code",
   "execution_count": null,
   "metadata": {},
   "outputs": [],
   "source": [
    "composite = np.ones_like(rotated_data[0]) # We need a matrix full of 1s to start out with, we can't multiply an empty matrix with anything.\n",
    "for item in rotated_data:\n",
    "    composite += item\n",
    "normalized = composite/len(rotated_data) #\n",
    "\n",
    "fig, ax = plt.subplots()\n",
    "ax.imshow(normalized)\n",
    "ax.set_xticks(np.arange(0,len(sinogram[0]))[::2],positions[::2])\n",
    "ax.set_yticks(np.arange(0,len(sinogram[0]))[::2],positions[::2]);"
   ]
  },
  {
   "cell_type": "markdown",
   "metadata": {},
   "source": [
    "While likely quite blurry, you should have something that now at least vaguely resembles a few point sources.  Congratulations, you've now got the basics down!"
   ]
  },
  {
   "cell_type": "markdown",
   "metadata": {},
   "source": [
    "# Alternate Plot Types\n",
    "----\n",
    "We can also make contour plots, showing regions of equal intensity."
   ]
  },
  {
   "cell_type": "code",
   "execution_count": null,
   "metadata": {},
   "outputs": [],
   "source": [
    "fig, ax = plt.subplots()\n",
    "\n",
    "num_lines = 10\n",
    "flipped = normalized[::-1] # This is Python sorcery that flips the data vertically so that it matches the other plots.\n",
    "con=ax.contour(normalized,levels=num_lines)\n",
    "ax.set_aspect('equal')\n",
    "ax.clabel(con, inline=True, fontsize=8) "
   ]
  },
  {
   "cell_type": "markdown",
   "metadata": {},
   "source": [
    "Another useful option is to make a 3d projection of the sinogram"
   ]
  },
  {
   "cell_type": "code",
   "execution_count": null,
   "metadata": {},
   "outputs": [],
   "source": [
    "positions \n",
    "angle_labels\n",
    "P,A = np.meshgrid(positions,angle_labels)\n",
    "fig = plt.figure()\n",
    "ax = plt.axes(projection='3d')\n",
    "truncated = np.where(sinogram>10,sinogram,np.zeros_like(sinogram)) # This takes out areas where the counts are less than 10\n",
    "ax.contour3D(P, A, truncated ,50)\n",
    "ax.set_xlabel('position')\n",
    "ax.set_ylabel('angle')\n",
    "ax.set_zlabel('coincidences');"
   ]
  },
  {
   "cell_type": "markdown",
   "metadata": {},
   "source": [
    "Or, we can make a 3d plot of the final reconstruction"
   ]
  },
  {
   "cell_type": "code",
   "execution_count": null,
   "metadata": {},
   "outputs": [],
   "source": [
    "positions \n",
    "angle_labels\n",
    "X, Y= np.meshgrid(positions,positions)\n",
    "fig = plt.figure()\n",
    "ax = plt.axes(projection='3d')\n",
    "ax.contour3D(X,Y,normalized ,50)\n",
    "ax.set_xlabel('x position')\n",
    "ax.set_ylabel('y position')\n",
    "ax.set_zlabel('coincidences');"
   ]
  },
  {
   "cell_type": "markdown",
   "metadata": {},
   "source": [
    "We can also do this for each of our slices, giving a 3d view of how our reconstruction step-by-step."
   ]
  },
  {
   "cell_type": "markdown",
   "metadata": {},
   "source": [
    "# Advanced Techniques\n",
    "----\n",
    "\n",
    "We can also use a professional reconstruction technique: a [radon transform](https://en.wikipedia.org/wiki/Radon_transform).  At heart this technique uses a Fourier transform of slices, recombines these in a polar format, and then does an inverse Fourier transform.  You can try and work this out for yourself, but we can also use a package from `skimage` to do this for us with our data.  Since we're starting with slice/angle data, we'll be doing an inverse transformation.  See [this link](https://scikit-image.org/docs/stable/auto_examples/transform/plot_radon_transform.html) for more on how the `iradon` function works.\n",
    "\n",
    "You'll need to install the `skimage` package in Anaconda for this to work.\n",
    "\n",
    "The following shows what the inverse radon transform does, and then shows the difference between it and our reconstruction.  The results are normalized to a maximum coincidence rate of `1` to make the shapes comparable."
   ]
  },
  {
   "cell_type": "code",
   "execution_count": null,
   "metadata": {
    "scrolled": false
   },
   "outputs": [],
   "source": [
    "\n",
    "from skimage.transform import iradon\n",
    "# the possible filters are 'ramp', 'shepp-logan', 'cosine', 'hamming', and 'hann'\n",
    "reconstruction = iradon(sinogram.T,theta=angles,filter_name='cosine')\n",
    "# the transpose makes it line up with our other method\n",
    "fig, ax = plt.subplots()\n",
    "ax.imshow(reconstruction/np.max(reconstruction))\n",
    "ax.set_title(\"Inverse radon transform data\");\n",
    "fig,ax = plt.subplots()\n",
    "ax.imshow(normalized/np.max(normalized))\n",
    "ax.set_title(\"Algebraic Reconstruction\")\n",
    "fig, ax = plt.subplots()\n",
    "ax.imshow(reconstruction/np.max(reconstruction)-normalized/np.max(normalized))\n",
    "ax.set_title(\"Difference\")"
   ]
  },
  {
   "cell_type": "markdown",
   "metadata": {},
   "source": [
    "Now this can be hard to interpret, so we'll check out what happens when we make a 3D plot."
   ]
  },
  {
   "cell_type": "code",
   "execution_count": null,
   "metadata": {},
   "outputs": [],
   "source": [
    "X, Y= np.meshgrid(positions,positions)\n",
    "fig = plt.figure()\n",
    "ax = plt.axes(projection='3d')\n",
    "ax.contour3D(X,Y,reconstruction/np.max(reconstruction),50)\n",
    "ax.set_xlabel('x position')\n",
    "ax.set_ylabel('y position')\n",
    "ax.set_zlabel('coincidences');\n",
    "ax.set_title(\"Inverse Radon Transform\")\n",
    "\n",
    "X, Y= np.meshgrid(positions,positions)\n",
    "fig = plt.figure()\n",
    "ax = plt.axes(projection='3d')\n",
    "ax.contour3D(X,Y,normalized/np.max(normalized),50)\n",
    "ax.set_xlabel('x position')\n",
    "ax.set_ylabel('y position')\n",
    "ax.set_zlabel('coincidences');\n",
    "ax.set_title(\"Algebraic Reconstruction\")\n",
    "\n",
    "X, Y= np.meshgrid(positions,positions)\n",
    "fig = plt.figure()\n",
    "ax = plt.axes(projection='3d')\n",
    "ax.contour3D(X,Y,reconstruction/np.max(reconstruction)-normalized/np.max(normalized),50)\n",
    "ax.set_xlabel('x position')\n",
    "ax.set_ylabel('y position')\n",
    "ax.set_zlabel('coincidences');\n",
    "ax.set_title(\"Differences\")"
   ]
  },
  {
   "cell_type": "code",
   "execution_count": null,
   "metadata": {},
   "outputs": [],
   "source": []
  }
 ],
 "metadata": {
  "kernelspec": {
   "display_name": "Python 3 (ipykernel)",
   "language": "python",
   "name": "python3"
  },
  "language_info": {
   "codemirror_mode": {
    "name": "ipython",
    "version": 3
   },
   "file_extension": ".py",
   "mimetype": "text/x-python",
   "name": "python",
   "nbconvert_exporter": "python",
   "pygments_lexer": "ipython3",
   "version": "3.8.8"
  }
 },
 "nbformat": 4,
 "nbformat_minor": 2
}
